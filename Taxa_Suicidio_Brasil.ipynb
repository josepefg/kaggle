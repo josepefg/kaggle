{
  "nbformat": 4,
  "nbformat_minor": 0,
  "metadata": {
    "colab": {
      "name": "Taxa_Suicidio_Brasil.ipynb",
      "provenance": [],
      "toc_visible": true,
      "authorship_tag": "ABX9TyNU8Yb0uW+Ux+UjAdrvtP/Q",
      "include_colab_link": true
    },
    "kernelspec": {
      "name": "python3",
      "display_name": "Python 3"
    }
  },
  "cells": [
    {
      "cell_type": "markdown",
      "metadata": {
        "id": "view-in-github",
        "colab_type": "text"
      },
      "source": [
        "<a href=\"https://colab.research.google.com/github/josepefg/kaggle/blob/master/Taxa_Suicidio_Brasil.ipynb\" target=\"_parent\"><img src=\"https://colab.research.google.com/assets/colab-badge.svg\" alt=\"Open In Colab\"/></a>"
      ]
    },
    {
      "cell_type": "markdown",
      "metadata": {
        "id": "DFZY-9AEBxTM",
        "colab_type": "text"
      },
      "source": [
        "<a href=\"https://www.linkedin.com/in/josepegerent\"> <img border=\"0\" alt=\"Linkedin\" src=\"https://img.shields.io/badge/Autor-josepefg-red.svg\"> </a>\n",
        "# **Análise da taxa de suicídios no Brasil**  \n"
      ]
    },
    {
      "cell_type": "markdown",
      "metadata": {
        "id": "GTw4ropoCImg",
        "colab_type": "text"
      },
      "source": [
        "# **Obtenção dos dados**  \n",
        "Os dados foram obtidos no site do Kaggle: [Suicide Rates Overview 1985 to 2016\n",
        "](https://www.kaggle.com/russellyates88/suicide-rates-overview-1985-to-2016)"
      ]
    },
    {
      "cell_type": "code",
      "metadata": {
        "id": "bVnGZRcIBpS0",
        "colab_type": "code",
        "colab": {}
      },
      "source": [
        "# importar os pacotes necessários\n",
        "import warnings\n",
        "warnings.filterwarnings(\"ignore\", category=Warning)\n",
        "\n",
        "import pandas as pd\n",
        "import matplotlib.pyplot as plt\n",
        "import seaborn as sns\n",
        "\n",
        "sns.set()\n",
        "sns.set_style(\"white\")\n",
        "# plt.figure(figsize=(12,8))\n",
        "\n",
        "%matplotlib inline"
      ],
      "execution_count": 16,
      "outputs": []
    },
    {
      "cell_type": "code",
      "metadata": {
        "id": "8exWSviRCvdr",
        "colab_type": "code",
        "colab": {}
      },
      "source": [
        "# importar o arquivo csv com as taxas de suicidio\n",
        "df = pd.read_csv('https://raw.githubusercontent.com/josepefg/kaggle/master/data/suicide_rate/suicide_rate_overview.csv')"
      ],
      "execution_count": 3,
      "outputs": []
    },
    {
      "cell_type": "markdown",
      "metadata": {
        "id": "XRKA5I_dFXo9",
        "colab_type": "text"
      },
      "source": [
        "# **Análise dos dados** \n",
        "Entender a estrutura e a descrição dos dados."
      ]
    },
    {
      "cell_type": "markdown",
      "metadata": {
        "id": "gMWf7dqmF99F",
        "colab_type": "text"
      },
      "source": [
        "**Colunas**  \n",
        "\n",
        "* **country:** País\n",
        "* **year:** Ano de registro\n",
        "* **sex:** Sexo da pessoa\n",
        "* **age group:** Faixa etária\n",
        "* **count of suicides:** Número de suidídios\n",
        "* **population:** População\n",
        "* **suicide rate:** Taxa de suicídio\n",
        "* **country-year:** Chave composta por País+Ano\n",
        "* **HDI for year:** Índice de Desenvolvimento Humano do ano\n",
        "* **gdpforyear:** Produto Interno Bruto do ano\n",
        "* **gdppercapita:** Produto Interno Bruto per capita\n",
        "* **generation:** Geração baseado no nascimento  \n",
        "\n",
        "Antes de iniciar a análise vamos ver algumas linhas do dataset."
      ]
    },
    {
      "cell_type": "code",
      "metadata": {
        "id": "03544Bi8D9hc",
        "colab_type": "code",
        "colab": {
          "base_uri": "https://localhost:8080/",
          "height": 408
        },
        "outputId": "69958540-b3e1-4c4e-d35d-6ce9f3bb0295"
      },
      "source": [
        "df.head()"
      ],
      "execution_count": 6,
      "outputs": [
        {
          "output_type": "execute_result",
          "data": {
            "text/html": [
              "<div>\n",
              "<style scoped>\n",
              "    .dataframe tbody tr th:only-of-type {\n",
              "        vertical-align: middle;\n",
              "    }\n",
              "\n",
              "    .dataframe tbody tr th {\n",
              "        vertical-align: top;\n",
              "    }\n",
              "\n",
              "    .dataframe thead th {\n",
              "        text-align: right;\n",
              "    }\n",
              "</style>\n",
              "<table border=\"1\" class=\"dataframe\">\n",
              "  <thead>\n",
              "    <tr style=\"text-align: right;\">\n",
              "      <th></th>\n",
              "      <th>country</th>\n",
              "      <th>year</th>\n",
              "      <th>sex</th>\n",
              "      <th>age</th>\n",
              "      <th>suicides_no</th>\n",
              "      <th>population</th>\n",
              "      <th>suicides/100k pop</th>\n",
              "      <th>country-year</th>\n",
              "      <th>HDI for year</th>\n",
              "      <th>gdp_for_year ($)</th>\n",
              "      <th>gdp_per_capita ($)</th>\n",
              "      <th>generation</th>\n",
              "    </tr>\n",
              "  </thead>\n",
              "  <tbody>\n",
              "    <tr>\n",
              "      <th>0</th>\n",
              "      <td>Albania</td>\n",
              "      <td>1987</td>\n",
              "      <td>male</td>\n",
              "      <td>15-24 years</td>\n",
              "      <td>21</td>\n",
              "      <td>312900</td>\n",
              "      <td>6.71</td>\n",
              "      <td>Albania1987</td>\n",
              "      <td>NaN</td>\n",
              "      <td>2,156,624,900</td>\n",
              "      <td>796</td>\n",
              "      <td>Generation X</td>\n",
              "    </tr>\n",
              "    <tr>\n",
              "      <th>1</th>\n",
              "      <td>Albania</td>\n",
              "      <td>1987</td>\n",
              "      <td>male</td>\n",
              "      <td>35-54 years</td>\n",
              "      <td>16</td>\n",
              "      <td>308000</td>\n",
              "      <td>5.19</td>\n",
              "      <td>Albania1987</td>\n",
              "      <td>NaN</td>\n",
              "      <td>2,156,624,900</td>\n",
              "      <td>796</td>\n",
              "      <td>Silent</td>\n",
              "    </tr>\n",
              "    <tr>\n",
              "      <th>2</th>\n",
              "      <td>Albania</td>\n",
              "      <td>1987</td>\n",
              "      <td>female</td>\n",
              "      <td>15-24 years</td>\n",
              "      <td>14</td>\n",
              "      <td>289700</td>\n",
              "      <td>4.83</td>\n",
              "      <td>Albania1987</td>\n",
              "      <td>NaN</td>\n",
              "      <td>2,156,624,900</td>\n",
              "      <td>796</td>\n",
              "      <td>Generation X</td>\n",
              "    </tr>\n",
              "    <tr>\n",
              "      <th>3</th>\n",
              "      <td>Albania</td>\n",
              "      <td>1987</td>\n",
              "      <td>male</td>\n",
              "      <td>75+ years</td>\n",
              "      <td>1</td>\n",
              "      <td>21800</td>\n",
              "      <td>4.59</td>\n",
              "      <td>Albania1987</td>\n",
              "      <td>NaN</td>\n",
              "      <td>2,156,624,900</td>\n",
              "      <td>796</td>\n",
              "      <td>G.I. Generation</td>\n",
              "    </tr>\n",
              "    <tr>\n",
              "      <th>4</th>\n",
              "      <td>Albania</td>\n",
              "      <td>1987</td>\n",
              "      <td>male</td>\n",
              "      <td>25-34 years</td>\n",
              "      <td>9</td>\n",
              "      <td>274300</td>\n",
              "      <td>3.28</td>\n",
              "      <td>Albania1987</td>\n",
              "      <td>NaN</td>\n",
              "      <td>2,156,624,900</td>\n",
              "      <td>796</td>\n",
              "      <td>Boomers</td>\n",
              "    </tr>\n",
              "  </tbody>\n",
              "</table>\n",
              "</div>"
            ],
            "text/plain": [
              "   country  year  ... gdp_per_capita ($)       generation\n",
              "0  Albania  1987  ...                796     Generation X\n",
              "1  Albania  1987  ...                796           Silent\n",
              "2  Albania  1987  ...                796     Generation X\n",
              "3  Albania  1987  ...                796  G.I. Generation\n",
              "4  Albania  1987  ...                796          Boomers\n",
              "\n",
              "[5 rows x 12 columns]"
            ]
          },
          "metadata": {
            "tags": []
          },
          "execution_count": 6
        }
      ]
    },
    {
      "cell_type": "markdown",
      "metadata": {
        "id": "Vz3ypPJTIhRL",
        "colab_type": "text"
      },
      "source": [
        "## Quais as dimensões do dataset?"
      ]
    },
    {
      "cell_type": "code",
      "metadata": {
        "id": "F31nIuOqGnV_",
        "colab_type": "code",
        "colab": {
          "base_uri": "https://localhost:8080/",
          "height": 54
        },
        "outputId": "5d0cf5db-8648-4fe8-cb28-83543e6663b3"
      },
      "source": [
        "print(\"Linhas: {} \\nColunas: {} \".format(df.shape[0], df.shape[1]))"
      ],
      "execution_count": 7,
      "outputs": [
        {
          "output_type": "stream",
          "text": [
            "Linhas: 27820 \n",
            "Colunas: 12 \n"
          ],
          "name": "stdout"
        }
      ]
    },
    {
      "cell_type": "markdown",
      "metadata": {
        "id": "rAYJz5ekIrI8",
        "colab_type": "text"
      },
      "source": [
        "## Quais os tipos das colunas?"
      ]
    },
    {
      "cell_type": "code",
      "metadata": {
        "id": "ru7t6pVZIk2v",
        "colab_type": "code",
        "colab": {
          "base_uri": "https://localhost:8080/",
          "height": 363
        },
        "outputId": "cc6d080b-35ab-4364-e424-8940772739c9"
      },
      "source": [
        "df.info()"
      ],
      "execution_count": 10,
      "outputs": [
        {
          "output_type": "stream",
          "text": [
            "<class 'pandas.core.frame.DataFrame'>\n",
            "RangeIndex: 27820 entries, 0 to 27819\n",
            "Data columns (total 12 columns):\n",
            " #   Column              Non-Null Count  Dtype  \n",
            "---  ------              --------------  -----  \n",
            " 0   country             27820 non-null  object \n",
            " 1   year                27820 non-null  int64  \n",
            " 2   sex                 27820 non-null  object \n",
            " 3   age                 27820 non-null  object \n",
            " 4   suicides_no         27820 non-null  int64  \n",
            " 5   population          27820 non-null  int64  \n",
            " 6   suicides/100k pop   27820 non-null  float64\n",
            " 7   country-year        27820 non-null  object \n",
            " 8   HDI for year        8364 non-null   float64\n",
            " 9    gdp_for_year ($)   27820 non-null  object \n",
            " 10  gdp_per_capita ($)  27820 non-null  int64  \n",
            " 11  generation          27820 non-null  object \n",
            "dtypes: float64(2), int64(4), object(6)\n",
            "memory usage: 2.5+ MB\n"
          ],
          "name": "stdout"
        }
      ]
    },
    {
      "cell_type": "markdown",
      "metadata": {
        "id": "e4mffokdI5FR",
        "colab_type": "text"
      },
      "source": [
        "## Qual a porcentagem de valores ausentes de cada coluna?"
      ]
    },
    {
      "cell_type": "code",
      "metadata": {
        "id": "jv6yMSA3ItHX",
        "colab_type": "code",
        "colab": {
          "base_uri": "https://localhost:8080/",
          "height": 254
        },
        "outputId": "59d90b87-ee58-4821-d022-2d37df3ffdd6"
      },
      "source": [
        "(df.isnull().sum() / df.shape[0]).sort_values(ascending=False).map('{:.2%}'.format)"
      ],
      "execution_count": 11,
      "outputs": [
        {
          "output_type": "execute_result",
          "data": {
            "text/plain": [
              "HDI for year          69.94%\n",
              "generation             0.00%\n",
              "gdp_per_capita ($)     0.00%\n",
              " gdp_for_year ($)      0.00%\n",
              "country-year           0.00%\n",
              "suicides/100k pop      0.00%\n",
              "population             0.00%\n",
              "suicides_no            0.00%\n",
              "age                    0.00%\n",
              "sex                    0.00%\n",
              "year                   0.00%\n",
              "country                0.00%\n",
              "dtype: object"
            ]
          },
          "metadata": {
            "tags": []
          },
          "execution_count": 11
        }
      ]
    },
    {
      "cell_type": "markdown",
      "metadata": {
        "id": "9uBP94CjI_4L",
        "colab_type": "text"
      },
      "source": [
        "### Qual a porcentagem de valores ausentes para o Brasil?"
      ]
    },
    {
      "cell_type": "code",
      "metadata": {
        "id": "ccAlXWaRI8Ns",
        "colab_type": "code",
        "colab": {
          "base_uri": "https://localhost:8080/",
          "height": 254
        },
        "outputId": "7ae2a174-0896-4c9f-89c1-c0a9c94e944c"
      },
      "source": [
        "dfb = df[df.country == 'Brazil']\n",
        "(dfb.isnull().sum() / dfb.shape[0]).sort_values(ascending=False).map('{:.2%}'.format)"
      ],
      "execution_count": 12,
      "outputs": [
        {
          "output_type": "execute_result",
          "data": {
            "text/plain": [
              "HDI for year          67.74%\n",
              "generation             0.00%\n",
              "gdp_per_capita ($)     0.00%\n",
              " gdp_for_year ($)      0.00%\n",
              "country-year           0.00%\n",
              "suicides/100k pop      0.00%\n",
              "population             0.00%\n",
              "suicides_no            0.00%\n",
              "age                    0.00%\n",
              "sex                    0.00%\n",
              "year                   0.00%\n",
              "country                0.00%\n",
              "dtype: object"
            ]
          },
          "metadata": {
            "tags": []
          },
          "execution_count": 12
        }
      ]
    },
    {
      "cell_type": "markdown",
      "metadata": {
        "id": "dJc8S3GOJSYC",
        "colab_type": "text"
      },
      "source": [
        "Devido ao alto valor de falta de dados de HDI não iremos utilizar essa coluna em nossa análise."
      ]
    },
    {
      "cell_type": "markdown",
      "metadata": {
        "id": "_VI_eD0zJlBI",
        "colab_type": "text"
      },
      "source": [
        "## Como estão distribuídas as variáveis?"
      ]
    },
    {
      "cell_type": "code",
      "metadata": {
        "id": "4FS6rEaqJPZZ",
        "colab_type": "code",
        "colab": {
          "base_uri": "https://localhost:8080/",
          "height": 441
        },
        "outputId": "58973d0d-e139-4e34-b97c-df8231c9a77d"
      },
      "source": [
        "# plotar o histograma das variáveis numéricas\n",
        "df.hist(bins=15, figsize=(12,6), layout=(2,3))\n",
        "plt.tight_layout()"
      ],
      "execution_count": 29,
      "outputs": [
        {
          "output_type": "display_data",
          "data": {
            "image/png": "[encoded data removed]",
            "text/plain": [
              "<Figure size 864x432 with 6 Axes>"
            ]
          },
          "metadata": {
            "tags": [],
            "needs_background": "light"
          }
        }
      ]
    },
    {
      "cell_type": "markdown",
      "metadata": {
        "id": "_RU_FPmAMu0c",
        "colab_type": "text"
      },
      "source": [
        "## Resumo estatístico"
      ]
    },
    {
      "cell_type": "code",
      "metadata": {
        "id": "jZn-d4e7LsuP",
        "colab_type": "code",
        "colab": {
          "base_uri": "https://localhost:8080/",
          "height": 288
        },
        "outputId": "e70e8032-8685-4f09-e9c0-0d40cd0b2db0"
      },
      "source": [
        "# resumo estatístico dos dados numéricos\n",
        "df.describe()"
      ],
      "execution_count": 34,
      "outputs": [
        {
          "output_type": "execute_result",
          "data": {
            "text/html": [
              "<div>\n",
              "<style scoped>\n",
              "    .dataframe tbody tr th:only-of-type {\n",
              "        vertical-align: middle;\n",
              "    }\n",
              "\n",
              "    .dataframe tbody tr th {\n",
              "        vertical-align: top;\n",
              "    }\n",
              "\n",
              "    .dataframe thead th {\n",
              "        text-align: right;\n",
              "    }\n",
              "</style>\n",
              "<table border=\"1\" class=\"dataframe\">\n",
              "  <thead>\n",
              "    <tr style=\"text-align: right;\">\n",
              "      <th></th>\n",
              "      <th>year</th>\n",
              "      <th>suicides_no</th>\n",
              "      <th>population</th>\n",
              "      <th>suicides/100k pop</th>\n",
              "      <th>HDI for year</th>\n",
              "      <th>gdp_per_capita ($)</th>\n",
              "    </tr>\n",
              "  </thead>\n",
              "  <tbody>\n",
              "    <tr>\n",
              "      <th>count</th>\n",
              "      <td>27820.000000</td>\n",
              "      <td>27820.000000</td>\n",
              "      <td>2.782000e+04</td>\n",
              "      <td>27820.000000</td>\n",
              "      <td>8364.000000</td>\n",
              "      <td>27820.000000</td>\n",
              "    </tr>\n",
              "    <tr>\n",
              "      <th>mean</th>\n",
              "      <td>2001.258375</td>\n",
              "      <td>242.574407</td>\n",
              "      <td>1.844794e+06</td>\n",
              "      <td>12.816097</td>\n",
              "      <td>0.776601</td>\n",
              "      <td>16866.464414</td>\n",
              "    </tr>\n",
              "    <tr>\n",
              "      <th>std</th>\n",
              "      <td>8.469055</td>\n",
              "      <td>902.047917</td>\n",
              "      <td>3.911779e+06</td>\n",
              "      <td>18.961511</td>\n",
              "      <td>0.093367</td>\n",
              "      <td>18887.576472</td>\n",
              "    </tr>\n",
              "    <tr>\n",
              "      <th>min</th>\n",
              "      <td>1985.000000</td>\n",
              "      <td>0.000000</td>\n",
              "      <td>2.780000e+02</td>\n",
              "      <td>0.000000</td>\n",
              "      <td>0.483000</td>\n",
              "      <td>251.000000</td>\n",
              "    </tr>\n",
              "    <tr>\n",
              "      <th>25%</th>\n",
              "      <td>1995.000000</td>\n",
              "      <td>3.000000</td>\n",
              "      <td>9.749850e+04</td>\n",
              "      <td>0.920000</td>\n",
              "      <td>0.713000</td>\n",
              "      <td>3447.000000</td>\n",
              "    </tr>\n",
              "    <tr>\n",
              "      <th>50%</th>\n",
              "      <td>2002.000000</td>\n",
              "      <td>25.000000</td>\n",
              "      <td>4.301500e+05</td>\n",
              "      <td>5.990000</td>\n",
              "      <td>0.779000</td>\n",
              "      <td>9372.000000</td>\n",
              "    </tr>\n",
              "    <tr>\n",
              "      <th>75%</th>\n",
              "      <td>2008.000000</td>\n",
              "      <td>131.000000</td>\n",
              "      <td>1.486143e+06</td>\n",
              "      <td>16.620000</td>\n",
              "      <td>0.855000</td>\n",
              "      <td>24874.000000</td>\n",
              "    </tr>\n",
              "    <tr>\n",
              "      <th>max</th>\n",
              "      <td>2016.000000</td>\n",
              "      <td>22338.000000</td>\n",
              "      <td>4.380521e+07</td>\n",
              "      <td>224.970000</td>\n",
              "      <td>0.944000</td>\n",
              "      <td>126352.000000</td>\n",
              "    </tr>\n",
              "  </tbody>\n",
              "</table>\n",
              "</div>"
            ],
            "text/plain": [
              "               year   suicides_no  ...  HDI for year  gdp_per_capita ($)\n",
              "count  27820.000000  27820.000000  ...   8364.000000        27820.000000\n",
              "mean    2001.258375    242.574407  ...      0.776601        16866.464414\n",
              "std        8.469055    902.047917  ...      0.093367        18887.576472\n",
              "min     1985.000000      0.000000  ...      0.483000          251.000000\n",
              "25%     1995.000000      3.000000  ...      0.713000         3447.000000\n",
              "50%     2002.000000     25.000000  ...      0.779000         9372.000000\n",
              "75%     2008.000000    131.000000  ...      0.855000        24874.000000\n",
              "max     2016.000000  22338.000000  ...      0.944000       126352.000000\n",
              "\n",
              "[8 rows x 6 columns]"
            ]
          },
          "metadata": {
            "tags": []
          },
          "execution_count": 34
        }
      ]
    },
    {
      "cell_type": "code",
      "metadata": {
        "id": "PpbmX6htMyA-",
        "colab_type": "code",
        "colab": {
          "base_uri": "https://localhost:8080/",
          "height": 168
        },
        "outputId": "f3db3bdb-1a5e-456c-e822-43b8439b3961"
      },
      "source": [
        "# resumo estatístico dos dados categóricos\n",
        "df.describe(include=['O'])"
      ],
      "execution_count": 35,
      "outputs": [
        {
          "output_type": "execute_result",
          "data": {
            "text/html": [
              "<div>\n",
              "<style scoped>\n",
              "    .dataframe tbody tr th:only-of-type {\n",
              "        vertical-align: middle;\n",
              "    }\n",
              "\n",
              "    .dataframe tbody tr th {\n",
              "        vertical-align: top;\n",
              "    }\n",
              "\n",
              "    .dataframe thead th {\n",
              "        text-align: right;\n",
              "    }\n",
              "</style>\n",
              "<table border=\"1\" class=\"dataframe\">\n",
              "  <thead>\n",
              "    <tr style=\"text-align: right;\">\n",
              "      <th></th>\n",
              "      <th>country</th>\n",
              "      <th>sex</th>\n",
              "      <th>age</th>\n",
              "      <th>country-year</th>\n",
              "      <th>gdp_for_year ($)</th>\n",
              "      <th>generation</th>\n",
              "    </tr>\n",
              "  </thead>\n",
              "  <tbody>\n",
              "    <tr>\n",
              "      <th>count</th>\n",
              "      <td>27820</td>\n",
              "      <td>27820</td>\n",
              "      <td>27820</td>\n",
              "      <td>27820</td>\n",
              "      <td>27820</td>\n",
              "      <td>27820</td>\n",
              "    </tr>\n",
              "    <tr>\n",
              "      <th>unique</th>\n",
              "      <td>101</td>\n",
              "      <td>2</td>\n",
              "      <td>6</td>\n",
              "      <td>2321</td>\n",
              "      <td>2321</td>\n",
              "      <td>6</td>\n",
              "    </tr>\n",
              "    <tr>\n",
              "      <th>top</th>\n",
              "      <td>Iceland</td>\n",
              "      <td>female</td>\n",
              "      <td>75+ years</td>\n",
              "      <td>Ecuador1991</td>\n",
              "      <td>400,172,297,861</td>\n",
              "      <td>Generation X</td>\n",
              "    </tr>\n",
              "    <tr>\n",
              "      <th>freq</th>\n",
              "      <td>382</td>\n",
              "      <td>13910</td>\n",
              "      <td>4642</td>\n",
              "      <td>12</td>\n",
              "      <td>12</td>\n",
              "      <td>6408</td>\n",
              "    </tr>\n",
              "  </tbody>\n",
              "</table>\n",
              "</div>"
            ],
            "text/plain": [
              "        country     sex  ...  gdp_for_year ($)     generation\n",
              "count     27820   27820  ...              27820         27820\n",
              "unique      101       2  ...               2321             6\n",
              "top     Iceland  female  ...    400,172,297,861  Generation X\n",
              "freq        382   13910  ...                 12          6408\n",
              "\n",
              "[4 rows x 6 columns]"
            ]
          },
          "metadata": {
            "tags": []
          },
          "execution_count": 35
        }
      ]
    },
    {
      "cell_type": "markdown",
      "metadata": {
        "id": "IcObA7JoN3Fn",
        "colab_type": "text"
      },
      "source": [
        "## Taxas de suicídio por país "
      ]
    },
    {
      "cell_type": "code",
      "metadata": {
        "id": "2ptvdS3WNlEi",
        "colab_type": "code",
        "colab": {
          "base_uri": "https://localhost:8080/",
          "height": 508
        },
        "outputId": "2ca90a03-d1fd-4672-af1f-56fa8c481fb9"
      },
      "source": [
        "anos = df.year.unique()\n",
        "taxa_paises = df.groupby(['country', 'year']).agg({'suicides/100k pop': ['mean']}).sort_values(('suicides/100k pop', 'mean'), ascending=False).reset_index()\n",
        "taxa_paises.columns = taxa_paises.columns.droplevel(0)\n",
        "taxa_paises.columns = ['country', 'year', 'mean']\n",
        "print(taxa_paises.head())\n",
        "\n",
        "taxa_mundial = df.groupby(['year']).agg({'suicides/100k pop': ['mean']}).sort_values(('year'), ascending=False).reset_index()\n",
        "taxa_mundial.columns = taxa_mundial.columns.droplevel(0)\n",
        "taxa_mundial.columns = ['year', 'mean']\n",
        "print(taxa_mundial.tail(20))\n",
        "\n",
        "# df_clean.groupby(['neighbourhood']).agg({'price': ['mean', 'count']}).sort_values(('price', 'mean'), ascending=False)"
      ],
      "execution_count": 65,
      "outputs": [
        {
          "output_type": "stream",
          "text": [
            "     country  year       mean\n",
            "0  Lithuania  1995  53.275000\n",
            "1  Lithuania  1996  49.634167\n",
            "2    Hungary  1991  47.916667\n",
            "3  Lithuania  2000  47.650000\n",
            "4    Hungary  1992  47.521667\n",
            "    year       mean\n",
            "12  2004  12.481944\n",
            "13  2003  13.205019\n",
            "14  2002  13.786550\n",
            "15  2001  13.519138\n",
            "16  2000  13.941328\n",
            "17  1999  14.532038\n",
            "18  1998  14.926920\n",
            "19  1997  14.954361\n",
            "20  1996  15.305422\n",
            "21  1995  15.662671\n",
            "22  1994  14.073272\n",
            "23  1993  13.833705\n",
            "24  1992  13.498564\n",
            "25  1991  13.438880\n",
            "26  1990  12.862956\n",
            "27  1989  12.879071\n",
            "28  1988  12.709405\n",
            "29  1987  11.644213\n",
            "30  1986  11.423333\n",
            "31  1985  11.826198\n"
          ],
          "name": "stdout"
        }
      ]
    },
    {
      "cell_type": "code",
      "metadata": {
        "id": "JdKaRvefOLkr",
        "colab_type": "code",
        "colab": {
          "base_uri": "https://localhost:8080/",
          "height": 285
        },
        "outputId": "c61ccae2-8306-41db-efce-4384425ee46b"
      },
      "source": [
        "# gráfico comparativo entre países e Mundo\n",
        "ax = sns.lineplot(x=taxa_paises.year, y=taxa_paises['mean'])\n",
        "# ax = sns.lineplot(x=taxa_mundial.year, y=taxa_mundial['mean'])\n",
        "\n",
        "# sns.lineplot(x=\"Year\", y=\"signal\", hue=\"label\", data=data_preproc)\n",
        "\n",
        "# ax = sns.lineplot(x=anos, y=taxa_mundial, label='Mundo')\n",
        "# plt.legend(title=\"Taxa de suicídio\")\n",
        "plt.show()"
      ],
      "execution_count": 71,
      "outputs": [
        {
          "output_type": "display_data",
          "data": {
            "image/png": "[encoded data removed]",
            "text/plain": [
              "<Figure size 432x288 with 1 Axes>"
            ]
          },
          "metadata": {
            "tags": [],
            "needs_background": "light"
          }
        }
      ]
    },
    {
      "cell_type": "code",
      "metadata": {
        "id": "Ylz0E2gMQeUZ",
        "colab_type": "code",
        "colab": {}
      },
      "source": [
        ""
      ],
      "execution_count": null,
      "outputs": []
    }
  ]
}