{
  "nbformat": 4,
  "nbformat_minor": 0,
  "metadata": {
    "colab": {
      "name": "Titanic.ipynb",
      "provenance": [],
      "toc_visible": true,
      "authorship_tag": "ABX9TyOMTDX9U+Q+1Ul4RCieXkKD",
      "include_colab_link": true
    },
    "kernelspec": {
      "name": "python3",
      "display_name": "Python 3"
    }
  },
  "cells": [
    {
      "cell_type": "markdown",
      "metadata": {
        "id": "view-in-github",
        "colab_type": "text"
      },
      "source": [
        "<a href=\"https://colab.research.google.com/github/josepefg/kaggle/blob/master/Titanic.ipynb\" target=\"_parent\"><img src=\"https://colab.research.google.com/assets/colab-badge.svg\" alt=\"Open In Colab\"/></a>"
      ]
    },
    {
      "cell_type": "markdown",
      "metadata": {
        "id": "ctMA98wQTT87",
        "colab_type": "text"
      },
      "source": [
        "# **Desafio do Titanic**  \n",
        "<a href=\"https://www.linkedin.com/in/josepegerent\"> \\\n",
        "<img border=\"0\" alt=\"Linkedin\" src=\"https://img.shields.io/badge/Autor-josepefg-red.svg\"> \\\n",
        "</a>\n",
        "\n",
        "## [Titanic: Machine Learning from Disaster](https://www.kaggle.com/c/titanic)  \n",
        "Essa é a famosa competição do Kaggle sobre o acidente do Titanic. Ela é considerada a principal competição para iniciantes no mundo de Data Science. O objetivo dessa competição é simples, predizer os sobreviventes do acidente a partir de um modelo de Machine Learning.\n",
        "![Titanic](https://upload.wikimedia.org/wikipedia/commons/thumb/f/fd/RMS_Titanic_3.jpg/1280px-RMS_Titanic_3.jpg)"
      ]
    },
    {
      "cell_type": "markdown",
      "metadata": {
        "id": "NbebShKeVYv1",
        "colab_type": "text"
      },
      "source": [
        "## **Obtendo os dados**  \n",
        "Os dados foram divididos em dois grupos:\n",
        "*   Treino (train.csv)  \n",
        "*   Teste (test.csv)  \n",
        "Os dados de treino devem ser utilizados para a análise e criação dos modelos de Machine Learning, enquanto que os dados de teste servem para avaliar o modelo criado.  \n",
        "Para baixar os arquivos é necessário criar uma conta no Kaggle (não se preocupe, é de graça). Para facilitar eu já baixei esses arquivos e salvei no meu repositório.\n",
        "\n",
        "\n"
      ]
    },
    {
      "cell_type": "code",
      "metadata": {
        "id": "_wYVg27-Vhuh",
        "colab_type": "code",
        "colab": {}
      },
      "source": [
        "# importando os pacotes necessarios\n",
        "import warnings\n",
        "warnings.filterwarnings(\"ignore\", category=Warning) \n",
        "\n",
        "import pandas as pd\n",
        "# import numpy as np\n",
        "import matplotlib.pyplot as plt\n",
        "import seaborn as sns\n",
        "\n",
        "# permitir visualizar todas as colunas\n",
        "pd.options.display.max_columns = None"
      ],
      "execution_count": 0,
      "outputs": []
    },
    {
      "cell_type": "code",
      "metadata": {
        "id": "-sLRJrAUV-qu",
        "colab_type": "code",
        "colab": {}
      },
      "source": [
        "train = pd.read_csv('https://raw.githubusercontent.com/josepefg/kaggle/master/data/titanic/train.csv')\n",
        "test = pd.read_csv('https://raw.githubusercontent.com/josepefg/kaggle/master/data/titanic/test.csv')\n",
        "# gender = pd.read_csv('data/gender_submission.csv')"
      ],
      "execution_count": 0,
      "outputs": []
    },
    {
      "cell_type": "markdown",
      "metadata": {
        "id": "yX5PEc4-i3nZ",
        "colab_type": "text"
      },
      "source": [
        "### **Verificando as dimensões do dataset de treino**  \n",
        "As colunas também são chamadas de variáveis ou features."
      ]
    },
    {
      "cell_type": "code",
      "metadata": {
        "id": "ZFvbyLQjWLAK",
        "colab_type": "code",
        "outputId": "65362535-36b0-4d3b-8b23-2908b1738531",
        "colab": {
          "base_uri": "https://localhost:8080/",
          "height": 51
        }
      },
      "source": [
        "print(\"Colunas:{}\\nLinhas:\\t{}\".format(train.shape[1], train.shape[0]))"
      ],
      "execution_count": 0,
      "outputs": [
        {
          "output_type": "stream",
          "text": [
            "Colunas:12\n",
            "Linhas:\t891\n"
          ],
          "name": "stdout"
        }
      ]
    },
    {
      "cell_type": "markdown",
      "metadata": {
        "id": "-crPP_A5W7Sc",
        "colab_type": "text"
      },
      "source": [
        "## **Entendendo os dados**  \n",
        "Nesse momento vamos enteder melhor os dados que estamos trabalhando, seus tipos, quantidades, dados estatísticos entre outros.  \n",
        "O modelo criado será de Aprendizado Supervisionado (Supervised Learning) e a nossa variável alvo será a coluna Surived que define se o passageiro sobreviveu ou não ao acidente.  \n",
        "Abaixo estão listadas as colunas presentes no dataset e uma breve explicação sobre cada uma delas.  \n",
        "\n",
        "Dicionário de Dados\n",
        "* PassengerId: Número de identificação do passageiro\n",
        "* Survived: Informa se o passageiro sobreviveu ao desastre\n",
        "  * 0 = Não\n",
        "  * 1 = Sim\n",
        "* Pclass: Classe do bilhete\n",
        "  * 1 = 1ª Classe\n",
        "  * 2 = 2ª Classe\n",
        "  * 3 = 3ª Classe\n",
        "* Name: Nome do passageiro\n",
        "* Sex: Sexo do passageiro\n",
        "* Age: Idade do passageiro\n",
        "* SibSp: Quantidade de cônjuges e irmãos a bordo\n",
        "* Parch: Quantidade de pais e filhos a bordo\n",
        "* Ticket: Número da passagem\n",
        "* Fare: Preço da Passagem\n",
        "* Cabin: Número da cabine do passageiro\n",
        "* Embarked: Porto no qual o passageiro embarcou\n",
        "  * C = Cherbourg\n",
        "  * Q = Queenstown\n",
        "  * S = Southampton"
      ]
    },
    {
      "cell_type": "code",
      "metadata": {
        "id": "5YWJ_QKNXDV3",
        "colab_type": "code",
        "outputId": "9a58d5f4-95f9-4a85-d6e0-bf18f31244fd",
        "colab": {
          "base_uri": "https://localhost:8080/",
          "height": 425
        }
      },
      "source": [
        "# tipo das variáveis\n",
        "print(train.dtypes)\n",
        "\n",
        "# amostra do dataset\n",
        "display(train.head())"
      ],
      "execution_count": 0,
      "outputs": [
        {
          "output_type": "stream",
          "text": [
            "PassengerId      int64\n",
            "Survived         int64\n",
            "Pclass           int64\n",
            "Name            object\n",
            "Sex             object\n",
            "Age            float64\n",
            "SibSp            int64\n",
            "Parch            int64\n",
            "Ticket          object\n",
            "Fare           float64\n",
            "Cabin           object\n",
            "Embarked        object\n",
            "dtype: object\n"
          ],
          "name": "stdout"
        },
        {
          "output_type": "display_data",
          "data": {
            "text/html": [
              "<div>\n",
              "<style scoped>\n",
              "    .dataframe tbody tr th:only-of-type {\n",
              "        vertical-align: middle;\n",
              "    }\n",
              "\n",
              "    .dataframe tbody tr th {\n",
              "        vertical-align: top;\n",
              "    }\n",
              "\n",
              "    .dataframe thead th {\n",
              "        text-align: right;\n",
              "    }\n",
              "</style>\n",
              "<table border=\"1\" class=\"dataframe\">\n",
              "  <thead>\n",
              "    <tr style=\"text-align: right;\">\n",
              "      <th></th>\n",
              "      <th>PassengerId</th>\n",
              "      <th>Survived</th>\n",
              "      <th>Pclass</th>\n",
              "      <th>Name</th>\n",
              "      <th>Sex</th>\n",
              "      <th>Age</th>\n",
              "      <th>SibSp</th>\n",
              "      <th>Parch</th>\n",
              "      <th>Ticket</th>\n",
              "      <th>Fare</th>\n",
              "      <th>Cabin</th>\n",
              "      <th>Embarked</th>\n",
              "    </tr>\n",
              "  </thead>\n",
              "  <tbody>\n",
              "    <tr>\n",
              "      <th>0</th>\n",
              "      <td>1</td>\n",
              "      <td>0</td>\n",
              "      <td>3</td>\n",
              "      <td>Braund, Mr. Owen Harris</td>\n",
              "      <td>male</td>\n",
              "      <td>22.0</td>\n",
              "      <td>1</td>\n",
              "      <td>0</td>\n",
              "      <td>A/5 21171</td>\n",
              "      <td>7.2500</td>\n",
              "      <td>NaN</td>\n",
              "      <td>S</td>\n",
              "    </tr>\n",
              "    <tr>\n",
              "      <th>1</th>\n",
              "      <td>2</td>\n",
              "      <td>1</td>\n",
              "      <td>1</td>\n",
              "      <td>Cumings, Mrs. John Bradley (Florence Briggs Th...</td>\n",
              "      <td>female</td>\n",
              "      <td>38.0</td>\n",
              "      <td>1</td>\n",
              "      <td>0</td>\n",
              "      <td>PC 17599</td>\n",
              "      <td>71.2833</td>\n",
              "      <td>C85</td>\n",
              "      <td>C</td>\n",
              "    </tr>\n",
              "    <tr>\n",
              "      <th>2</th>\n",
              "      <td>3</td>\n",
              "      <td>1</td>\n",
              "      <td>3</td>\n",
              "      <td>Heikkinen, Miss. Laina</td>\n",
              "      <td>female</td>\n",
              "      <td>26.0</td>\n",
              "      <td>0</td>\n",
              "      <td>0</td>\n",
              "      <td>STON/O2. 3101282</td>\n",
              "      <td>7.9250</td>\n",
              "      <td>NaN</td>\n",
              "      <td>S</td>\n",
              "    </tr>\n",
              "    <tr>\n",
              "      <th>3</th>\n",
              "      <td>4</td>\n",
              "      <td>1</td>\n",
              "      <td>1</td>\n",
              "      <td>Futrelle, Mrs. Jacques Heath (Lily May Peel)</td>\n",
              "      <td>female</td>\n",
              "      <td>35.0</td>\n",
              "      <td>1</td>\n",
              "      <td>0</td>\n",
              "      <td>113803</td>\n",
              "      <td>53.1000</td>\n",
              "      <td>C123</td>\n",
              "      <td>S</td>\n",
              "    </tr>\n",
              "    <tr>\n",
              "      <th>4</th>\n",
              "      <td>5</td>\n",
              "      <td>0</td>\n",
              "      <td>3</td>\n",
              "      <td>Allen, Mr. William Henry</td>\n",
              "      <td>male</td>\n",
              "      <td>35.0</td>\n",
              "      <td>0</td>\n",
              "      <td>0</td>\n",
              "      <td>373450</td>\n",
              "      <td>8.0500</td>\n",
              "      <td>NaN</td>\n",
              "      <td>S</td>\n",
              "    </tr>\n",
              "  </tbody>\n",
              "</table>\n",
              "</div>"
            ],
            "text/plain": [
              "   PassengerId  Survived  Pclass  \\\n",
              "0            1         0       3   \n",
              "1            2         1       1   \n",
              "2            3         1       3   \n",
              "3            4         1       1   \n",
              "4            5         0       3   \n",
              "\n",
              "                                                Name     Sex   Age  SibSp  \\\n",
              "0                            Braund, Mr. Owen Harris    male  22.0      1   \n",
              "1  Cumings, Mrs. John Bradley (Florence Briggs Th...  female  38.0      1   \n",
              "2                             Heikkinen, Miss. Laina  female  26.0      0   \n",
              "3       Futrelle, Mrs. Jacques Heath (Lily May Peel)  female  35.0      1   \n",
              "4                           Allen, Mr. William Henry    male  35.0      0   \n",
              "\n",
              "   Parch            Ticket     Fare Cabin Embarked  \n",
              "0      0         A/5 21171   7.2500   NaN        S  \n",
              "1      0          PC 17599  71.2833   C85        C  \n",
              "2      0  STON/O2. 3101282   7.9250   NaN        S  \n",
              "3      0            113803  53.1000  C123        S  \n",
              "4      0            373450   8.0500   NaN        S  "
            ]
          },
          "metadata": {
            "tags": []
          }
        }
      ]
    },
    {
      "cell_type": "code",
      "metadata": {
        "id": "1MlKiZIfXKsd",
        "colab_type": "code",
        "outputId": "229172f5-27fa-4bab-c1c7-fcd5f9d16695",
        "colab": {
          "base_uri": "https://localhost:8080/",
          "height": 297
        }
      },
      "source": [
        "# estatística dos dados numéricos\n",
        "train.describe()"
      ],
      "execution_count": 0,
      "outputs": [
        {
          "output_type": "execute_result",
          "data": {
            "text/html": [
              "<div>\n",
              "<style scoped>\n",
              "    .dataframe tbody tr th:only-of-type {\n",
              "        vertical-align: middle;\n",
              "    }\n",
              "\n",
              "    .dataframe tbody tr th {\n",
              "        vertical-align: top;\n",
              "    }\n",
              "\n",
              "    .dataframe thead th {\n",
              "        text-align: right;\n",
              "    }\n",
              "</style>\n",
              "<table border=\"1\" class=\"dataframe\">\n",
              "  <thead>\n",
              "    <tr style=\"text-align: right;\">\n",
              "      <th></th>\n",
              "      <th>PassengerId</th>\n",
              "      <th>Survived</th>\n",
              "      <th>Pclass</th>\n",
              "      <th>Age</th>\n",
              "      <th>SibSp</th>\n",
              "      <th>Parch</th>\n",
              "      <th>Fare</th>\n",
              "    </tr>\n",
              "  </thead>\n",
              "  <tbody>\n",
              "    <tr>\n",
              "      <th>count</th>\n",
              "      <td>891.000000</td>\n",
              "      <td>891.000000</td>\n",
              "      <td>891.000000</td>\n",
              "      <td>714.000000</td>\n",
              "      <td>891.000000</td>\n",
              "      <td>891.000000</td>\n",
              "      <td>891.000000</td>\n",
              "    </tr>\n",
              "    <tr>\n",
              "      <th>mean</th>\n",
              "      <td>446.000000</td>\n",
              "      <td>0.383838</td>\n",
              "      <td>2.308642</td>\n",
              "      <td>29.699118</td>\n",
              "      <td>0.523008</td>\n",
              "      <td>0.381594</td>\n",
              "      <td>32.204208</td>\n",
              "    </tr>\n",
              "    <tr>\n",
              "      <th>std</th>\n",
              "      <td>257.353842</td>\n",
              "      <td>0.486592</td>\n",
              "      <td>0.836071</td>\n",
              "      <td>14.526497</td>\n",
              "      <td>1.102743</td>\n",
              "      <td>0.806057</td>\n",
              "      <td>49.693429</td>\n",
              "    </tr>\n",
              "    <tr>\n",
              "      <th>min</th>\n",
              "      <td>1.000000</td>\n",
              "      <td>0.000000</td>\n",
              "      <td>1.000000</td>\n",
              "      <td>0.420000</td>\n",
              "      <td>0.000000</td>\n",
              "      <td>0.000000</td>\n",
              "      <td>0.000000</td>\n",
              "    </tr>\n",
              "    <tr>\n",
              "      <th>25%</th>\n",
              "      <td>223.500000</td>\n",
              "      <td>0.000000</td>\n",
              "      <td>2.000000</td>\n",
              "      <td>20.125000</td>\n",
              "      <td>0.000000</td>\n",
              "      <td>0.000000</td>\n",
              "      <td>7.910400</td>\n",
              "    </tr>\n",
              "    <tr>\n",
              "      <th>50%</th>\n",
              "      <td>446.000000</td>\n",
              "      <td>0.000000</td>\n",
              "      <td>3.000000</td>\n",
              "      <td>28.000000</td>\n",
              "      <td>0.000000</td>\n",
              "      <td>0.000000</td>\n",
              "      <td>14.454200</td>\n",
              "    </tr>\n",
              "    <tr>\n",
              "      <th>75%</th>\n",
              "      <td>668.500000</td>\n",
              "      <td>1.000000</td>\n",
              "      <td>3.000000</td>\n",
              "      <td>38.000000</td>\n",
              "      <td>1.000000</td>\n",
              "      <td>0.000000</td>\n",
              "      <td>31.000000</td>\n",
              "    </tr>\n",
              "    <tr>\n",
              "      <th>max</th>\n",
              "      <td>891.000000</td>\n",
              "      <td>1.000000</td>\n",
              "      <td>3.000000</td>\n",
              "      <td>80.000000</td>\n",
              "      <td>8.000000</td>\n",
              "      <td>6.000000</td>\n",
              "      <td>512.329200</td>\n",
              "    </tr>\n",
              "  </tbody>\n",
              "</table>\n",
              "</div>"
            ],
            "text/plain": [
              "       PassengerId    Survived      Pclass         Age       SibSp  \\\n",
              "count   891.000000  891.000000  891.000000  714.000000  891.000000   \n",
              "mean    446.000000    0.383838    2.308642   29.699118    0.523008   \n",
              "std     257.353842    0.486592    0.836071   14.526497    1.102743   \n",
              "min       1.000000    0.000000    1.000000    0.420000    0.000000   \n",
              "25%     223.500000    0.000000    2.000000   20.125000    0.000000   \n",
              "50%     446.000000    0.000000    3.000000   28.000000    0.000000   \n",
              "75%     668.500000    1.000000    3.000000   38.000000    1.000000   \n",
              "max     891.000000    1.000000    3.000000   80.000000    8.000000   \n",
              "\n",
              "            Parch        Fare  \n",
              "count  891.000000  891.000000  \n",
              "mean     0.381594   32.204208  \n",
              "std      0.806057   49.693429  \n",
              "min      0.000000    0.000000  \n",
              "25%      0.000000    7.910400  \n",
              "50%      0.000000   14.454200  \n",
              "75%      0.000000   31.000000  \n",
              "max      6.000000  512.329200  "
            ]
          },
          "metadata": {
            "tags": []
          },
          "execution_count": 82
        }
      ]
    },
    {
      "cell_type": "code",
      "metadata": {
        "id": "PXy1Y_PGfeWR",
        "colab_type": "code",
        "outputId": "bfb587bf-9c99-427a-e406-b353220de60f",
        "colab": {
          "base_uri": "https://localhost:8080/",
          "height": 173
        }
      },
      "source": [
        "# estatística dos dados categóricos\n",
        "train.describe(include=['O'])"
      ],
      "execution_count": 0,
      "outputs": [
        {
          "output_type": "execute_result",
          "data": {
            "text/html": [
              "<div>\n",
              "<style scoped>\n",
              "    .dataframe tbody tr th:only-of-type {\n",
              "        vertical-align: middle;\n",
              "    }\n",
              "\n",
              "    .dataframe tbody tr th {\n",
              "        vertical-align: top;\n",
              "    }\n",
              "\n",
              "    .dataframe thead th {\n",
              "        text-align: right;\n",
              "    }\n",
              "</style>\n",
              "<table border=\"1\" class=\"dataframe\">\n",
              "  <thead>\n",
              "    <tr style=\"text-align: right;\">\n",
              "      <th></th>\n",
              "      <th>Name</th>\n",
              "      <th>Sex</th>\n",
              "      <th>Ticket</th>\n",
              "      <th>Cabin</th>\n",
              "      <th>Embarked</th>\n",
              "    </tr>\n",
              "  </thead>\n",
              "  <tbody>\n",
              "    <tr>\n",
              "      <th>count</th>\n",
              "      <td>891</td>\n",
              "      <td>891</td>\n",
              "      <td>891</td>\n",
              "      <td>204</td>\n",
              "      <td>889</td>\n",
              "    </tr>\n",
              "    <tr>\n",
              "      <th>unique</th>\n",
              "      <td>891</td>\n",
              "      <td>2</td>\n",
              "      <td>681</td>\n",
              "      <td>147</td>\n",
              "      <td>3</td>\n",
              "    </tr>\n",
              "    <tr>\n",
              "      <th>top</th>\n",
              "      <td>Hart, Miss. Eva Miriam</td>\n",
              "      <td>male</td>\n",
              "      <td>347082</td>\n",
              "      <td>G6</td>\n",
              "      <td>S</td>\n",
              "    </tr>\n",
              "    <tr>\n",
              "      <th>freq</th>\n",
              "      <td>1</td>\n",
              "      <td>577</td>\n",
              "      <td>7</td>\n",
              "      <td>4</td>\n",
              "      <td>644</td>\n",
              "    </tr>\n",
              "  </tbody>\n",
              "</table>\n",
              "</div>"
            ],
            "text/plain": [
              "                          Name   Sex  Ticket Cabin Embarked\n",
              "count                      891   891     891   204      889\n",
              "unique                     891     2     681   147        3\n",
              "top     Hart, Miss. Eva Miriam  male  347082    G6        S\n",
              "freq                         1   577       7     4      644"
            ]
          },
          "metadata": {
            "tags": []
          },
          "execution_count": 83
        }
      ]
    },
    {
      "cell_type": "code",
      "metadata": {
        "id": "-e5rVjM8X3tO",
        "colab_type": "code",
        "outputId": "bebdb60f-34fb-4217-84f1-5a8d73f0a83a",
        "colab": {
          "base_uri": "https://localhost:8080/",
          "height": 607
        }
      },
      "source": [
        "# distribuição da frequencia dos dados numéricos\n",
        "train.hist(figsize=(12,10));"
      ],
      "execution_count": 0,
      "outputs": [
        {
          "output_type": "display_data",
          "data": {
            "image/png": "[encoded data removed]",
            "text/plain": [
              "<Figure size 864x720 with 9 Axes>"
            ]
          },
          "metadata": {
            "tags": [],
            "needs_background": "light"
          }
        }
      ]
    },
    {
      "cell_type": "code",
      "metadata": {
        "id": "kh5uHs7_Y6au",
        "colab_type": "code",
        "colab": {}
      },
      "source": [
        "# Criando uma cópia para manter o dataset original\n",
        "train_cp = train.copy()"
      ],
      "execution_count": 0,
      "outputs": []
    },
    {
      "cell_type": "code",
      "metadata": {
        "id": "4XKl9cO6YRGN",
        "colab_type": "code",
        "colab": {}
      },
      "source": [
        "# PassengerId, ticket, cabin e name não têm relevância para a análise\n",
        "train_cp.drop(['PassengerId'], axis=1, inplace=True)\n",
        "train_cp.drop(['Name'], axis=1, inplace=True)\n",
        "train_cp.drop(['Ticket'], axis=1, inplace=True)\n",
        "train_cp.drop(['Cabin'], axis=1, inplace=True)"
      ],
      "execution_count": 0,
      "outputs": []
    },
    {
      "cell_type": "code",
      "metadata": {
        "id": "VmEPaDvOY0tI",
        "colab_type": "code",
        "outputId": "6e2d0bf5-31aa-4afe-9e5e-497e68f47137",
        "colab": {
          "base_uri": "https://localhost:8080/",
          "height": 606
        }
      },
      "source": [
        "# Plotar os gráficos das colunas vs sobreviventes\n",
        "fig, ([axis1, axis2], [axis3, axis4], [axis5, axis6]) = plt.subplots(3,2, figsize=(12,10));\n",
        "\n",
        "sns.barplot(x='Pclass', y='Survived', data=train_cp, ax=axis1);\n",
        "sns.barplot(x='Sex', y='Survived', data=train_cp, ax=axis2);\n",
        "sns.barplot(x='SibSp', y='Survived', data=train_cp, ax=axis3);\n",
        "sns.barplot(x='Parch', y='Survived', data=train_cp, ax=axis4);\n",
        "sns.barplot(x='Embarked', y='Survived', data=train_cp, ax=axis5);"
      ],
      "execution_count": 0,
      "outputs": [
        {
          "output_type": "display_data",
          "data": {
            "image/png": "[encoded data removed]",
            "text/plain": [
              "<Figure size 864x720 with 6 Axes>"
            ]
          },
          "metadata": {
            "tags": [],
            "needs_background": "light"
          }
        }
      ]
    },
    {
      "cell_type": "code",
      "metadata": {
        "id": "ywqvWRnyZ130",
        "colab_type": "code",
        "outputId": "12818ec6-8aaa-4d43-e5c2-c97854ea3686",
        "colab": {
          "base_uri": "https://localhost:8080/",
          "height": 433
        }
      },
      "source": [
        "# Ver influência da idade e valor da passagem na probabilidade de sobrevivência\n",
        "age_survived = sns.FacetGrid(train_cp, col='Survived')\n",
        "age_survived.map(sns.distplot, 'Age');\n",
        "\n",
        "fare_survived = sns.FacetGrid(train_cp, col='Survived')\n",
        "fare_survived.map(sns.distplot, 'Fare');"
      ],
      "execution_count": 0,
      "outputs": [
        {
          "output_type": "display_data",
          "data": {
            "image/png": "[encoded data removed]",
            "text/plain": [
              "<Figure size 432x216 with 2 Axes>"
            ]
          },
          "metadata": {
            "tags": [],
            "needs_background": "light"
          }
        },
        {
          "output_type": "display_data",
          "data": {
            "image/png": "[encoded data removed]",
            "text/plain": [
              "<Figure size 432x216 with 2 Axes>"
            ]
          },
          "metadata": {
            "tags": [],
            "needs_background": "light"
          }
        }
      ]
    },
    {
      "cell_type": "code",
      "metadata": {
        "id": "kDfwi6ancLyj",
        "colab_type": "code",
        "outputId": "c7a9316c-2041-4e31-8cdd-45ff6c1e607d",
        "colab": {
          "base_uri": "https://localhost:8080/",
          "height": 612
        }
      },
      "source": [
        "# Scatter matrix das colunas\n",
        "columns=['Survived', 'Sex', 'Parch', 'Embarked', 'SibSp', 'Age', 'Pclass', 'Fare']\n",
        "pd.plotting.scatter_matrix(train_cp[columns], figsize=(15, 10));"
      ],
      "execution_count": 0,
      "outputs": [
        {
          "output_type": "display_data",
          "data": {
            "image/png": "[encoded data removed]",
            "text/plain": [
              "<Figure size 1080x720 with 36 Axes>"
            ]
          },
          "metadata": {
            "tags": [],
            "needs_background": "light"
          }
        }
      ]
    },
    {
      "cell_type": "code",
      "metadata": {
        "id": "zcQnZNNtdbgm",
        "colab_type": "code",
        "outputId": "0b08e19c-35dd-418c-9983-52f28fdde71a",
        "colab": {
          "base_uri": "https://localhost:8080/",
          "height": 303
        }
      },
      "source": [
        "# plotar o heatmap para as variáveis numéricas\n",
        "sns.heatmap(train_cp.corr(), cmap='coolwarm', fmt='.2f', linewidths=0.1,\n",
        "            vmax=1.0, square=True, linecolor='white', annot=True);"
      ],
      "execution_count": 0,
      "outputs": [
        {
          "output_type": "display_data",
          "data": {
            "image/png": "[encoded data removed]",
            "text/plain": [
              "<Figure size 432x288 with 2 Axes>"
            ]
          },
          "metadata": {
            "tags": [],
            "needs_background": "light"
          }
        }
      ]
    },
    {
      "cell_type": "markdown",
      "metadata": {
        "id": "sdn3841TgR1x",
        "colab_type": "text"
      },
      "source": [
        "## **Preparação dos dados**    \n",
        "Para que os modelos possam ser treinados não podem haver dados categóricos nem dados faltantes.\n",
        "\n"
      ]
    },
    {
      "cell_type": "code",
      "metadata": {
        "id": "CVkcqcXff02R",
        "colab_type": "code",
        "outputId": "c9142014-a7c5-486c-e977-f09dbc3a81bb",
        "colab": {
          "base_uri": "https://localhost:8080/",
          "height": 34
        }
      },
      "source": [
        "# salvar os índices dos datasets para recuperação posterior\n",
        "train_idx = train_cp.shape[0]\n",
        "test_idx = test.shape[0]\n",
        "\n",
        "# salvar PassengerId para submissao ao Kaggle\n",
        "passengerId = test['PassengerId']\n",
        "\n",
        "# extrair coluna 'Survived'\n",
        "target = train_cp.Survived.copy()\n",
        "# train_cp.drop(['Survived'], axis=1, inplace=True)\n",
        "\n",
        "# concatenar treino e teste em um único DataFrame\n",
        "df_merged = pd.concat(objs=[train_cp, test], axis=0).reset_index(drop=True)\n",
        "\n",
        "print(\"df_merged.shape: ({} x {})\".format(df_merged.shape[0], df_merged.shape[1]))"
      ],
      "execution_count": 0,
      "outputs": [
        {
          "output_type": "stream",
          "text": [
            "df_merged.shape: (1309 x 12)\n"
          ],
          "name": "stdout"
        }
      ]
    },
    {
      "cell_type": "code",
      "metadata": {
        "id": "a1inzgZEhJjF",
        "colab_type": "code",
        "colab": {}
      },
      "source": [
        "# Selecionar as colunas relevantes removendo as outras\n",
        "df_merged.drop(['PassengerId', 'Name', 'Ticket', 'Cabin', 'Embarked'], axis=1, inplace=True)"
      ],
      "execution_count": 0,
      "outputs": []
    },
    {
      "cell_type": "code",
      "metadata": {
        "id": "TSgaMWTAhVdS",
        "colab_type": "code",
        "outputId": "8365ad25-553a-4569-f44e-e6c014beb5bf",
        "colab": {
          "base_uri": "https://localhost:8080/",
          "height": 153
        }
      },
      "source": [
        "# Valores faltantes nos datasets de treino e teste\n",
        "df_merged.isnull().sum()"
      ],
      "execution_count": 0,
      "outputs": [
        {
          "output_type": "execute_result",
          "data": {
            "text/plain": [
              "Survived    418\n",
              "Pclass        0\n",
              "Sex           0\n",
              "Age         263\n",
              "SibSp         0\n",
              "Parch         0\n",
              "Fare          1\n",
              "dtype: int64"
            ]
          },
          "metadata": {
            "tags": []
          },
          "execution_count": 93
        }
      ]
    },
    {
      "cell_type": "code",
      "metadata": {
        "id": "n0o0rli7hbYA",
        "colab_type": "code",
        "colab": {}
      },
      "source": [
        "# Nesse ponto podemos modificar para melhorar o modelo\n",
        "# age\n",
        "# age_median = df_merged['Age'].median()\n",
        "# df_merged['Age'].fillna(age_median, inplace=True)\n",
        "# Age tem ts valores faltantes\n",
        "df_merged.drop(['Age'], axis=1, inplace=True)\n",
        "\n",
        "# fare\n",
        "fare_median = df_merged['Fare'].median()\n",
        "df_merged['Fare'].fillna(fare_median, inplace=True)\n",
        "\n",
        "# embarked\n",
        "# embarked_top = df_merged['Embarked'].value_counts()[0]\n",
        "# df_merged['Embarked'].fillna(embarked_top, inplace=True)"
      ],
      "execution_count": 0,
      "outputs": []
    },
    {
      "cell_type": "code",
      "metadata": {
        "id": "NkIuTAOAhmVt",
        "colab_type": "code",
        "outputId": "e0c3bed4-e8cc-47fc-f62f-d084b2b39662",
        "colab": {
          "base_uri": "https://localhost:8080/",
          "height": 204
        }
      },
      "source": [
        "# Feature Engineering\n",
        "# converter 'Sex' em 0 e 1\n",
        "df_merged['Sex'] = df_merged['Sex'].map({'male': 0, 'female': 1})\n",
        "\n",
        "# dummie variables para 'Embarked'\n",
        "# embarked_dummies = pd.get_dummies(df_merged['Embarked'], prefix='Embarked')\n",
        "# df_merged = pd.concat([df_merged, embarked_dummies], axis=1)\n",
        "# df_merged.drop('Embarked', axis=1, inplace=True)\n",
        "\n",
        "display(df_merged.head())"
      ],
      "execution_count": 0,
      "outputs": [
        {
          "output_type": "display_data",
          "data": {
            "text/html": [
              "<div>\n",
              "<style scoped>\n",
              "    .dataframe tbody tr th:only-of-type {\n",
              "        vertical-align: middle;\n",
              "    }\n",
              "\n",
              "    .dataframe tbody tr th {\n",
              "        vertical-align: top;\n",
              "    }\n",
              "\n",
              "    .dataframe thead th {\n",
              "        text-align: right;\n",
              "    }\n",
              "</style>\n",
              "<table border=\"1\" class=\"dataframe\">\n",
              "  <thead>\n",
              "    <tr style=\"text-align: right;\">\n",
              "      <th></th>\n",
              "      <th>Survived</th>\n",
              "      <th>Pclass</th>\n",
              "      <th>Sex</th>\n",
              "      <th>SibSp</th>\n",
              "      <th>Parch</th>\n",
              "      <th>Fare</th>\n",
              "    </tr>\n",
              "  </thead>\n",
              "  <tbody>\n",
              "    <tr>\n",
              "      <th>0</th>\n",
              "      <td>0.0</td>\n",
              "      <td>3</td>\n",
              "      <td>0</td>\n",
              "      <td>1</td>\n",
              "      <td>0</td>\n",
              "      <td>7.2500</td>\n",
              "    </tr>\n",
              "    <tr>\n",
              "      <th>1</th>\n",
              "      <td>1.0</td>\n",
              "      <td>1</td>\n",
              "      <td>1</td>\n",
              "      <td>1</td>\n",
              "      <td>0</td>\n",
              "      <td>71.2833</td>\n",
              "    </tr>\n",
              "    <tr>\n",
              "      <th>2</th>\n",
              "      <td>1.0</td>\n",
              "      <td>3</td>\n",
              "      <td>1</td>\n",
              "      <td>0</td>\n",
              "      <td>0</td>\n",
              "      <td>7.9250</td>\n",
              "    </tr>\n",
              "    <tr>\n",
              "      <th>3</th>\n",
              "      <td>1.0</td>\n",
              "      <td>1</td>\n",
              "      <td>1</td>\n",
              "      <td>1</td>\n",
              "      <td>0</td>\n",
              "      <td>53.1000</td>\n",
              "    </tr>\n",
              "    <tr>\n",
              "      <th>4</th>\n",
              "      <td>0.0</td>\n",
              "      <td>3</td>\n",
              "      <td>0</td>\n",
              "      <td>0</td>\n",
              "      <td>0</td>\n",
              "      <td>8.0500</td>\n",
              "    </tr>\n",
              "  </tbody>\n",
              "</table>\n",
              "</div>"
            ],
            "text/plain": [
              "   Survived  Pclass  Sex  SibSp  Parch     Fare\n",
              "0       0.0       3    0      1      0   7.2500\n",
              "1       1.0       1    1      1      0  71.2833\n",
              "2       1.0       3    1      0      0   7.9250\n",
              "3       1.0       1    1      1      0  53.1000\n",
              "4       0.0       3    0      0      0   8.0500"
            ]
          },
          "metadata": {
            "tags": []
          }
        }
      ]
    },
    {
      "cell_type": "code",
      "metadata": {
        "id": "vAHzNQLa0q5C",
        "colab_type": "code",
        "colab": {}
      },
      "source": [
        "# Criando coluna para tamanho da familia\n",
        "# df_merged['FamilySize'] = df_merged['SibSp'] + df_merged['Parch'] + 1\n",
        "# df_merged.head()"
      ],
      "execution_count": 0,
      "outputs": []
    },
    {
      "cell_type": "code",
      "metadata": {
        "id": "8JdMsuuZQrX5",
        "colab_type": "code",
        "outputId": "cb52e9cd-e3ab-4afa-a789-5fe9199b02c2",
        "colab": {
          "base_uri": "https://localhost:8080/",
          "height": 297
        }
      },
      "source": [
        "df_merged.describe()"
      ],
      "execution_count": 0,
      "outputs": [
        {
          "output_type": "execute_result",
          "data": {
            "text/html": [
              "<div>\n",
              "<style scoped>\n",
              "    .dataframe tbody tr th:only-of-type {\n",
              "        vertical-align: middle;\n",
              "    }\n",
              "\n",
              "    .dataframe tbody tr th {\n",
              "        vertical-align: top;\n",
              "    }\n",
              "\n",
              "    .dataframe thead th {\n",
              "        text-align: right;\n",
              "    }\n",
              "</style>\n",
              "<table border=\"1\" class=\"dataframe\">\n",
              "  <thead>\n",
              "    <tr style=\"text-align: right;\">\n",
              "      <th></th>\n",
              "      <th>Survived</th>\n",
              "      <th>Pclass</th>\n",
              "      <th>Sex</th>\n",
              "      <th>SibSp</th>\n",
              "      <th>Parch</th>\n",
              "      <th>Fare</th>\n",
              "    </tr>\n",
              "  </thead>\n",
              "  <tbody>\n",
              "    <tr>\n",
              "      <th>count</th>\n",
              "      <td>891.000000</td>\n",
              "      <td>1309.000000</td>\n",
              "      <td>1309.000000</td>\n",
              "      <td>1309.000000</td>\n",
              "      <td>1309.000000</td>\n",
              "      <td>1309.000000</td>\n",
              "    </tr>\n",
              "    <tr>\n",
              "      <th>mean</th>\n",
              "      <td>0.383838</td>\n",
              "      <td>2.294882</td>\n",
              "      <td>0.355997</td>\n",
              "      <td>0.498854</td>\n",
              "      <td>0.385027</td>\n",
              "      <td>33.281086</td>\n",
              "    </tr>\n",
              "    <tr>\n",
              "      <th>std</th>\n",
              "      <td>0.486592</td>\n",
              "      <td>0.837836</td>\n",
              "      <td>0.478997</td>\n",
              "      <td>1.041658</td>\n",
              "      <td>0.865560</td>\n",
              "      <td>51.741500</td>\n",
              "    </tr>\n",
              "    <tr>\n",
              "      <th>min</th>\n",
              "      <td>0.000000</td>\n",
              "      <td>1.000000</td>\n",
              "      <td>0.000000</td>\n",
              "      <td>0.000000</td>\n",
              "      <td>0.000000</td>\n",
              "      <td>0.000000</td>\n",
              "    </tr>\n",
              "    <tr>\n",
              "      <th>25%</th>\n",
              "      <td>0.000000</td>\n",
              "      <td>2.000000</td>\n",
              "      <td>0.000000</td>\n",
              "      <td>0.000000</td>\n",
              "      <td>0.000000</td>\n",
              "      <td>7.895800</td>\n",
              "    </tr>\n",
              "    <tr>\n",
              "      <th>50%</th>\n",
              "      <td>0.000000</td>\n",
              "      <td>3.000000</td>\n",
              "      <td>0.000000</td>\n",
              "      <td>0.000000</td>\n",
              "      <td>0.000000</td>\n",
              "      <td>14.454200</td>\n",
              "    </tr>\n",
              "    <tr>\n",
              "      <th>75%</th>\n",
              "      <td>1.000000</td>\n",
              "      <td>3.000000</td>\n",
              "      <td>1.000000</td>\n",
              "      <td>1.000000</td>\n",
              "      <td>0.000000</td>\n",
              "      <td>31.275000</td>\n",
              "    </tr>\n",
              "    <tr>\n",
              "      <th>max</th>\n",
              "      <td>1.000000</td>\n",
              "      <td>3.000000</td>\n",
              "      <td>1.000000</td>\n",
              "      <td>8.000000</td>\n",
              "      <td>9.000000</td>\n",
              "      <td>512.329200</td>\n",
              "    </tr>\n",
              "  </tbody>\n",
              "</table>\n",
              "</div>"
            ],
            "text/plain": [
              "         Survived       Pclass          Sex        SibSp        Parch  \\\n",
              "count  891.000000  1309.000000  1309.000000  1309.000000  1309.000000   \n",
              "mean     0.383838     2.294882     0.355997     0.498854     0.385027   \n",
              "std      0.486592     0.837836     0.478997     1.041658     0.865560   \n",
              "min      0.000000     1.000000     0.000000     0.000000     0.000000   \n",
              "25%      0.000000     2.000000     0.000000     0.000000     0.000000   \n",
              "50%      0.000000     3.000000     0.000000     0.000000     0.000000   \n",
              "75%      1.000000     3.000000     1.000000     1.000000     0.000000   \n",
              "max      1.000000     3.000000     1.000000     8.000000     9.000000   \n",
              "\n",
              "              Fare  \n",
              "count  1309.000000  \n",
              "mean     33.281086  \n",
              "std      51.741500  \n",
              "min       0.000000  \n",
              "25%       7.895800  \n",
              "50%      14.454200  \n",
              "75%      31.275000  \n",
              "max     512.329200  "
            ]
          },
          "metadata": {
            "tags": []
          },
          "execution_count": 97
        }
      ]
    },
    {
      "cell_type": "code",
      "metadata": {
        "id": "A9gbYGSzhteN",
        "colab_type": "code",
        "colab": {}
      },
      "source": [
        "# Recuperar datasets de treino e teste\n",
        "train_new = df_merged.iloc[:train_idx]\n",
        "test_new = df_merged.iloc[train_idx:]"
      ],
      "execution_count": 0,
      "outputs": []
    },
    {
      "cell_type": "code",
      "metadata": {
        "id": "ZkdN8RV8h3sZ",
        "colab_type": "code",
        "outputId": "5abb4407-028b-4f5c-fcf6-5609cc81bfc7",
        "colab": {
          "base_uri": "https://localhost:8080/",
          "height": 470
        }
      },
      "source": [
        "# Revisar correlação após colunas tratadas\n",
        "fig, ax = plt.subplots(figsize=(8,8))         # Sample figsize in inches\n",
        "sns.heatmap(train_new.corr(), cmap='coolwarm', fmt='.2f', linewidths=0.1,\n",
        "            vmax=1.0, square=True, linecolor='white', annot=True);"
      ],
      "execution_count": 0,
      "outputs": [
        {
          "output_type": "display_data",
          "data": {
            "image/png": "[encoded data removed]",
            "text/plain": [
              "<Figure size 576x576 with 2 Axes>"
            ]
          },
          "metadata": {
            "tags": [],
            "needs_background": "light"
          }
        }
      ]
    },
    {
      "cell_type": "markdown",
      "metadata": {
        "id": "3_dUp6Z6SRk7",
        "colab_type": "text"
      },
      "source": [
        "Aqui nesse mapa de calor podemos perceber que há uma alta correlação entre as colunas Survived e Sex."
      ]
    },
    {
      "cell_type": "code",
      "metadata": {
        "id": "J6NajKfvlkEC",
        "colab_type": "code",
        "colab": {}
      },
      "source": [
        "# Excluir coluna Survived\n",
        "y = train_new[\"Survived\"]\n",
        "train_new.drop(['Survived'], axis=1, inplace=True)\n",
        "test_new.drop(['Survived'], axis=1, inplace=True)"
      ],
      "execution_count": 0,
      "outputs": []
    },
    {
      "cell_type": "code",
      "metadata": {
        "id": "-qiKZwycY1nQ",
        "colab_type": "code",
        "outputId": "610a52a8-6bb8-4b4d-b630-3d25dd3385fa",
        "colab": {
          "base_uri": "https://localhost:8080/",
          "height": 204
        }
      },
      "source": [
        "columns_new = train_new.columns\n",
        "train_new.head()"
      ],
      "execution_count": 0,
      "outputs": [
        {
          "output_type": "execute_result",
          "data": {
            "text/html": [
              "<div>\n",
              "<style scoped>\n",
              "    .dataframe tbody tr th:only-of-type {\n",
              "        vertical-align: middle;\n",
              "    }\n",
              "\n",
              "    .dataframe tbody tr th {\n",
              "        vertical-align: top;\n",
              "    }\n",
              "\n",
              "    .dataframe thead th {\n",
              "        text-align: right;\n",
              "    }\n",
              "</style>\n",
              "<table border=\"1\" class=\"dataframe\">\n",
              "  <thead>\n",
              "    <tr style=\"text-align: right;\">\n",
              "      <th></th>\n",
              "      <th>Pclass</th>\n",
              "      <th>Sex</th>\n",
              "      <th>SibSp</th>\n",
              "      <th>Parch</th>\n",
              "      <th>Fare</th>\n",
              "    </tr>\n",
              "  </thead>\n",
              "  <tbody>\n",
              "    <tr>\n",
              "      <th>0</th>\n",
              "      <td>3</td>\n",
              "      <td>0</td>\n",
              "      <td>1</td>\n",
              "      <td>0</td>\n",
              "      <td>7.2500</td>\n",
              "    </tr>\n",
              "    <tr>\n",
              "      <th>1</th>\n",
              "      <td>1</td>\n",
              "      <td>1</td>\n",
              "      <td>1</td>\n",
              "      <td>0</td>\n",
              "      <td>71.2833</td>\n",
              "    </tr>\n",
              "    <tr>\n",
              "      <th>2</th>\n",
              "      <td>3</td>\n",
              "      <td>1</td>\n",
              "      <td>0</td>\n",
              "      <td>0</td>\n",
              "      <td>7.9250</td>\n",
              "    </tr>\n",
              "    <tr>\n",
              "      <th>3</th>\n",
              "      <td>1</td>\n",
              "      <td>1</td>\n",
              "      <td>1</td>\n",
              "      <td>0</td>\n",
              "      <td>53.1000</td>\n",
              "    </tr>\n",
              "    <tr>\n",
              "      <th>4</th>\n",
              "      <td>3</td>\n",
              "      <td>0</td>\n",
              "      <td>0</td>\n",
              "      <td>0</td>\n",
              "      <td>8.0500</td>\n",
              "    </tr>\n",
              "  </tbody>\n",
              "</table>\n",
              "</div>"
            ],
            "text/plain": [
              "   Pclass  Sex  SibSp  Parch     Fare\n",
              "0       3    0      1      0   7.2500\n",
              "1       1    1      1      0  71.2833\n",
              "2       3    1      0      0   7.9250\n",
              "3       1    1      1      0  53.1000\n",
              "4       3    0      0      0   8.0500"
            ]
          },
          "metadata": {
            "tags": []
          },
          "execution_count": 101
        }
      ]
    },
    {
      "cell_type": "code",
      "metadata": {
        "id": "uW_zuz-RW56r",
        "colab_type": "code",
        "colab": {}
      },
      "source": [
        "# Normalizando os dados\n",
        "# from sklearn import preprocessing\n",
        "\n",
        "# x = train_new.values #returns a numpy array\n",
        "# min_max_scaler = preprocessing.MinMaxScaler()\n",
        "# x_scaled = min_max_scaler.fit_transform(x)\n",
        "# train_n = pd.DataFrame(x_scaled, columns=columns_new)\n",
        "# train_n.head()"
      ],
      "execution_count": 0,
      "outputs": []
    },
    {
      "cell_type": "markdown",
      "metadata": {
        "id": "c2fVnAgLjOGU",
        "colab_type": "text"
      },
      "source": [
        "## **Construção e avaliação dos modelos**  "
      ]
    },
    {
      "cell_type": "code",
      "metadata": {
        "id": "Z_f4a_6siFea",
        "colab_type": "code",
        "colab": {}
      },
      "source": [
        "# importar bibliotecas do modelo de Machine Learning\n",
        "from sklearn.linear_model import LogisticRegression\n",
        "from sklearn.tree import DecisionTreeClassifier\n",
        "from sklearn import svm\n",
        "from sklearn.ensemble import RandomForestClassifier\n",
        "\n",
        "from sklearn.metrics import f1_score\n",
        "\n",
        "from datetime import datetime\n",
        "import pytz"
      ],
      "execution_count": 0,
      "outputs": []
    },
    {
      "cell_type": "code",
      "metadata": {
        "id": "-eH32Tmg0a82",
        "colab_type": "code",
        "colab": {}
      },
      "source": [
        "tz = pytz.timezone('America/Sao_Paulo')"
      ],
      "execution_count": 0,
      "outputs": []
    },
    {
      "cell_type": "code",
      "metadata": {
        "id": "WQ1k3TwZXG7-",
        "colab_type": "code",
        "colab": {}
      },
      "source": [
        "train_n = train_new"
      ],
      "execution_count": 0,
      "outputs": []
    },
    {
      "cell_type": "code",
      "metadata": {
        "id": "BbT2PKTolJ5s",
        "colab_type": "code",
        "outputId": "14380a4b-c77d-4318-d905-c6d926c1808f",
        "colab": {
          "base_uri": "https://localhost:8080/",
          "height": 51
        }
      },
      "source": [
        "# criar um modelo de Regressão Logística\n",
        "lr_model = LogisticRegression(solver='liblinear')\n",
        "lr_model.fit(train_n, target)\n",
        "\n",
        "# verificar a acurácia do modelo\n",
        "acc_logReg = round(lr_model.score(train_n, target) * 100, 2)\n",
        "pred = lr_model.predict(train_n)\n",
        "f1 = round(f1_score(target, pred, average='micro') * 100, 2)\n",
        "print(\"Acurácia do modelo de Regressão Logística: {}\\nF1_Score: {}\".format(acc_logReg, f1))"
      ],
      "execution_count": 0,
      "outputs": [
        {
          "output_type": "stream",
          "text": [
            "Acurácia do modelo de Regressão Logística: 79.57\n",
            "F1_Score: 79.57\n"
          ],
          "name": "stdout"
        }
      ]
    },
    {
      "cell_type": "code",
      "metadata": {
        "id": "N5DoS_0xl1U5",
        "colab_type": "code",
        "outputId": "b6bf42db-824a-460f-800b-00dd5bbd22c1",
        "colab": {
          "base_uri": "https://localhost:8080/",
          "height": 51
        }
      },
      "source": [
        "# criar um modelo de árvore de decisão\n",
        "tree_model = DecisionTreeClassifier(max_depth=3)\n",
        "tree_model.fit(train_n, target)\n",
        "\n",
        "# verificar a acurácia do modelo\n",
        "acc_tree = round(tree_model.score(train_n, target) * 100, 2)\n",
        "pred = tree_model.predict(train_n)\n",
        "f1 = round(f1_score(target, pred, average='micro') * 100, 2)\n",
        "print(\"Acurácia do modelo de Árvore de Decisão: {}\\nF1_Score: {}\".format(acc_tree, f1))"
      ],
      "execution_count": 0,
      "outputs": [
        {
          "output_type": "stream",
          "text": [
            "Acurácia do modelo de Árvore de Decisão: 81.03\n",
            "F1_Score: 81.03\n"
          ],
          "name": "stdout"
        }
      ]
    },
    {
      "cell_type": "code",
      "metadata": {
        "id": "TgAiKJ_vmn3o",
        "colab_type": "code",
        "outputId": "decbf4ea-82e0-403b-8351-55a7fe918784",
        "colab": {
          "base_uri": "https://localhost:8080/",
          "height": 51
        }
      },
      "source": [
        "# criar um modelo de svm\n",
        "svm_model = svm.SVC()\n",
        "svm_model.fit(train_n, target)\n",
        "\n",
        "# verificar a acurácia do modelo\n",
        "acc_svm = round(svm_model.score(train_n, target) * 100, 2)\n",
        "pred = svm_model.predict(train_n)\n",
        "f1 = round(f1_score(target, pred, average='micro') * 100, 2)\n",
        "print(\"Acurácia do modelo de SVM: {}\\nF1_Score: {}\".format(acc_svm, f1))"
      ],
      "execution_count": 0,
      "outputs": [
        {
          "output_type": "stream",
          "text": [
            "Acurácia do modelo de SVM: 68.01\n",
            "F1_Score: 68.01\n"
          ],
          "name": "stdout"
        }
      ]
    },
    {
      "cell_type": "code",
      "metadata": {
        "id": "8WJsSUo-qSAS",
        "colab_type": "code",
        "outputId": "a35c51c4-e9f2-489b-8612-e0874afa5191",
        "colab": {
          "base_uri": "https://localhost:8080/",
          "height": 51
        }
      },
      "source": [
        "# Melhor modelo com os parâmetros default\n",
        "rf_model = RandomForestClassifier(max_depth=3)\n",
        "rf_model.fit(train_n, target)\n",
        "\n",
        "\n",
        "# verificar a acurácia do modelo\n",
        "acc_rf = round(rf_model.score(train_n, target) * 100, 2)\n",
        "pred = rf_model.predict(train_n)\n",
        "f1 = round(f1_score(target, pred, average='micro') * 100, 2)\n",
        "print(\"Acurácia do modelo de Random Forest: {}\\nF1_Score: {}\".format(acc_rf, f1))"
      ],
      "execution_count": 0,
      "outputs": [
        {
          "output_type": "stream",
          "text": [
            "Acurácia do modelo de Random Forest: 81.26\n",
            "F1_Score: 81.26\n"
          ],
          "name": "stdout"
        }
      ]
    },
    {
      "cell_type": "code",
      "metadata": {
        "id": "zHiBNqRtqk9F",
        "colab_type": "code",
        "colab": {}
      },
      "source": [
        "y_pred_tree = rf_model.predict(test_new)\n",
        "\n",
        "submission = pd.DataFrame({\n",
        "    \"PassengerId\": passengerId,\n",
        "    \"Survived\": y_pred_tree\n",
        "})\n",
        "\n",
        "# gerar arquivo csv\n",
        "filename = datetime.now(tz=tz).strftime('./submission_rf-%Y-%m-%d-%H-%M-%S.csv')\n",
        "\n",
        "submission.to_csv(filename, index=False)"
      ],
      "execution_count": 0,
      "outputs": []
    },
    {
      "cell_type": "markdown",
      "metadata": {
        "id": "w0CGPIYQsrf-",
        "colab_type": "text"
      },
      "source": [
        "![alt text](https://raw.githubusercontent.com/josepefg/kaggle/master/resources/Screenshot_19.png)"
      ]
    },
    {
      "cell_type": "code",
      "metadata": {
        "id": "9DqNAQWZsAsj",
        "colab_type": "code",
        "colab": {}
      },
      "source": [
        ""
      ],
      "execution_count": 0,
      "outputs": []
    }
  ]
}